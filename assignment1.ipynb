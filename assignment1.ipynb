{
 "cells": [
  {
   "cell_type": "code",
   "execution_count": null,
   "id": "1b781504-6a86-44b1-a63a-2b90dd5a3b17",
   "metadata": {},
   "outputs": [],
   "source": [
    "Answers for assignment 1:\n",
    "1.Guido van Rossum\n",
    "2.Python is a multi-paradigm programming language. Object-oriented programming and structured programming are fully supported, and many of their features\n",
    "support functional programming and aspect-oriented programming (including metaprogramming and metaobjects)\n",
    "3. Yes it is case sensitive with identifier too.\n",
    "4. .py extension\n",
    "5. Interpreted \n",
    "6. Indentation\n",
    "7. single hash (#) \n",
    "8. 1) using sys.version method  2) using python_version() function  3) using python -V command\n",
    "9.lambda\n",
    "10. Preferred installer program\n",
    "11. bool(),bytes(), int(), len(), print(), set(), str(), type()\n",
    "12. 79 character\n",
    "13. Open source and large active community base, Extensive support libraries(NumPy for numerical calculations, Pandas for data analytics, etc.), User-friendly data structures,\n",
    "    Versatile, Easy to read, learn and write,  Dynamically typed language(No need to mention data type based on the value assigned, it takes data type),\n",
    "    Object-Oriented and Procedural  Programming language, Portable and Interactive,\n",
    "14. Memory management in Python involves a private heap containing all Python objects and data structures.\n",
    "    The management of this private heap is ensured internally by the Python memory manager.\n",
    "15. Go on Python.org where you can download the windows executables.\n",
    "    Go down in the page and download the file executable (if your computer is 64 bits)\n",
    "    Double click on the executable and install it\n",
    "    By default, it installs in the path:C:\\Users\\cypri\\AppData\\Local\\Programs\\Python\n",
    "    Move is to C:/\n",
    "    Change the name of the executable to python3.exe for convenience\n",
    "    Let’s now edit the environment variables to add this new python 3 to the path: edit the sytem enviorment variables -> advance -> enviorment variables\n",
    "    -> path -> Add the 2 new variables as follow: C:\\Python38\\\n",
    "    C:\\Python38\\Scripts\n",
    "    then click on OK\n",
    "    \n",
    " 16.  Yes"
   ]
  }
 ],
 "metadata": {
  "kernelspec": {
   "display_name": "Python 3 (ipykernel)",
   "language": "python",
   "name": "python3"
  },
  "language_info": {
   "codemirror_mode": {
    "name": "ipython",
    "version": 3
   },
   "file_extension": ".py",
   "mimetype": "text/x-python",
   "name": "python",
   "nbconvert_exporter": "python",
   "pygments_lexer": "ipython3",
   "version": "3.10.8"
  }
 },
 "nbformat": 4,
 "nbformat_minor": 5
}
