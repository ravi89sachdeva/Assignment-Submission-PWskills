{
 "cells": [
  {
   "cell_type": "code",
   "execution_count": 5,
   "id": "d74ff9f3-50d0-4285-b188-f2544c25a996",
   "metadata": {},
   "outputs": [
    {
     "name": "stdin",
     "output_type": "stream",
     "text": [
      "enter percentage here: 50\n"
     ]
    },
    {
     "name": "stdout",
     "output_type": "stream",
     "text": [
      "Grade : D\n"
     ]
    }
   ],
   "source": [
    "# answer 1\n",
    "marks=int(input(\"enter percentage here:\"))\n",
    "if marks>90:\n",
    "    print(\"Grade : A\")\n",
    "elif marks>80 and marks<=90:\n",
    "    print(\"Grade : B\")\n",
    "elif marks>=60 and marks<=80:\n",
    "    print(\"Grade : C\")\n",
    "else:\n",
    "    print(\"Grade : D\")    "
   ]
  },
  {
   "cell_type": "code",
   "execution_count": 13,
   "id": "ccad808f-0807-448b-bd2a-6452b5f5f06a",
   "metadata": {},
   "outputs": [
    {
     "name": "stdin",
     "output_type": "stream",
     "text": [
      "enter cost price of the bike : 50000\n"
     ]
    },
    {
     "name": "stdout",
     "output_type": "stream",
     "text": [
      "Your bike cost is: 50000 and its road tax is: 2500.0\n"
     ]
    }
   ],
   "source": [
    "# answer 2\n",
    "price=int(input(\"enter cost price of the bike :\"))\n",
    "if price>100000:\n",
    "    print(\"Your bike cost is: \"+str(price)+ \" and its road tax is: \"+str((price*15)/100))\n",
    "elif price>50000 and price<=100000:\n",
    "    print(\"Your bike cost is: \"+str(price)+ \" and its road tax is: \"+str((price*10)/100))\n",
    "else:\n",
    "    print(\"Your bike cost is: \"+str(price)+ \" and its road tax is: \"+str((price*5)/100))    "
   ]
  },
  {
   "cell_type": "code",
   "execution_count": 17,
   "id": "899e02c5-4282-44c7-961c-075ac158bf20",
   "metadata": {},
   "outputs": [
    {
     "name": "stdin",
     "output_type": "stream",
     "text": [
      "enter city name here: agra\n"
     ]
    },
    {
     "name": "stdout",
     "output_type": "stream",
     "text": [
      "agra's monument is taj Mahal\n"
     ]
    }
   ],
   "source": [
    "# answer 3\n",
    "city=input(\"enter city name here:\")\n",
    "if city=='Delhi' or city=='delhi':\n",
    "    print(city+\"'s monument is Red Fort\")\n",
    "elif city=='Agra' or city=='agra':\n",
    "    print(city+\"'s monument is taj Mahal\")\n",
    "elif city=='Jaipur' or city=='jaipur':\n",
    "    print(city+\"'s monument is Jal Mahal\")\n",
    "else:\n",
    "    print(\"Please select city from the list: Delhi,Agra, Jaipur\") "
   ]
  },
  {
   "cell_type": "code",
   "execution_count": 22,
   "id": "3b13c14b-92a3-4157-bff4-312a76729a3f",
   "metadata": {},
   "outputs": [
    {
     "name": "stdin",
     "output_type": "stream",
     "text": [
      "Enter any number to devide by 3:  729\n"
     ]
    },
    {
     "name": "stdout",
     "output_type": "stream",
     "text": [
      "243.0\n",
      "1\n",
      "81.0\n",
      "2\n",
      "27.0\n",
      "3\n",
      "9.0\n",
      "4\n",
      "Number:729 is :4 times divided by 3 before 11\n"
     ]
    }
   ],
   "source": [
    "# answer 4\n",
    "number=int(input(\"Enter any number to devide by 3: \"))\n",
    "num=number\n",
    "j=0\n",
    "while number>10:\n",
    "    number=number/3\n",
    "    print(number)\n",
    "    j=j+1\n",
    "    print(j)\n",
    "print(\"Number:\"+str(num)+\" is :\"+str(j)+\" times divided by 3 before 11\")    \n",
    "    "
   ]
  },
  {
   "cell_type": "code",
   "execution_count": 23,
   "id": "80148a14-bb69-4610-88f7-466e725a1170",
   "metadata": {},
   "outputs": [
    {
     "ename": "SyntaxError",
     "evalue": "invalid decimal literal (1468705517.py, line 3)",
     "output_type": "error",
     "traceback": [
      "\u001b[0;36m  Cell \u001b[0;32mIn[23], line 3\u001b[0;36m\u001b[0m\n\u001b[0;31m    1.A while loop evaluates the condition\u001b[0m\n\u001b[0m     ^\u001b[0m\n\u001b[0;31mSyntaxError\u001b[0m\u001b[0;31m:\u001b[0m invalid decimal literal\n"
     ]
    }
   ],
   "source": [
    "# answer 5\n",
    "Python while loop is used to run a block code until a certain condition is met.\n",
    "1.A while loop evaluates the condition\n",
    "2.If the condition evaluates to True, the code inside the while loop is executed.\n",
    "3.condition is evaluated again.\n",
    "4.This process continues until the condition is False.\n",
    "5.When condition evaluates to False, the loop stops.\n",
    "\n",
    "If we do not have a tidy data structure to iterate through, or \n",
    "generator function that drives your processing, we must use while.\n",
    "exp:\n",
    "number=int(input(\"Enter any number to devide by 3: \"))\n",
    "num=number\n",
    "j=0\n",
    "while number>10:\n",
    "    number=number/3\n",
    "    print(number)\n",
    "    j=j+1\n",
    "    print(j)\n",
    "print(\"Number:\"+str(num)+\" is :\"+str(j)+\" times divided by 3 before 11\")    \n",
    "\n",
    "while loop is an indefinite itteration that is used when a loop repeats unkown number of times and end when some condition is met.\n",
    "\n",
    "Note that in case of while loop the indented body of the loop should modify at least one variable in the test condition else the result is infinite loop.\n",
    "\n",
    "Example of use:\n",
    "\n",
    "The execution of the block of code require that the user enter specified input: while input == specified_input:.\n",
    "\n",
    "When you have a condition with comparison operators: while count < limit and stop != False:.\n"
   ]
  },
  {
   "cell_type": "code",
   "execution_count": 30,
   "id": "ab118aa2-1cfc-480c-a1b9-bc5160b0485e",
   "metadata": {},
   "outputs": [
    {
     "name": "stdin",
     "output_type": "stream",
     "text": [
      "Enter number of rows :  5\n"
     ]
    },
    {
     "name": "stdout",
     "output_type": "stream",
     "text": [
      "1 \n",
      "2 2 \n",
      "3 3 3 \n",
      "4 4 4 4 \n",
      "5 5 5 5 5 \n",
      "                  \n",
      "1 1 1 1 1 \n",
      "2 2 2 2 \n",
      "3 3 3 \n",
      "4 4 \n",
      "5 \n",
      "                         \n",
      "5 4 3 2 1 \n",
      "5 4 3 2 \n",
      "5 4 3 \n",
      "5 4 \n",
      "5 \n"
     ]
    }
   ],
   "source": [
    "# answer 6\n",
    "n = int(input('Enter number of rows : '))\n",
    " \n",
    "i = 1\n",
    "while i <= n :\n",
    "    j = 1\n",
    "    while j <= i:\n",
    "        print(i, end = \" \")\n",
    "        j += 1\n",
    "    print()\n",
    "    i += 1\n",
    "print(\"                  \")    \n",
    "i = 1\n",
    "while i <= n :\n",
    "    j = n\n",
    "    while j >= i:\n",
    "        print(i, end = \" \")\n",
    "        j -= 1\n",
    "    print()\n",
    "    i += 1\n",
    "\n",
    "print(\"                         \")\n",
    "\n",
    "i = 1\n",
    "while i <= n :\n",
    "    j = n\n",
    "    while j >= i:\n",
    "        print(j, end = \" \")\n",
    "        j -= 1\n",
    "    print()\n",
    "    i += 1\n"
   ]
  },
  {
   "cell_type": "code",
   "execution_count": 38,
   "id": "3721d690-1073-46cb-9082-e0fcf34e2eeb",
   "metadata": {},
   "outputs": [
    {
     "name": "stdout",
     "output_type": "stream",
     "text": [
      "10\n",
      "9\n",
      "8\n",
      "7\n",
      "6\n",
      "5\n",
      "4\n",
      "3\n",
      "2\n",
      "1\n"
     ]
    }
   ],
   "source": [
    "# answer 7,8\n",
    "i=10\n",
    "while i>0:\n",
    "    print(i)\n",
    "    i-=1\n"
   ]
  }
 ],
 "metadata": {
  "kernelspec": {
   "display_name": "Python 3 (ipykernel)",
   "language": "python",
   "name": "python3"
  },
  "language_info": {
   "codemirror_mode": {
    "name": "ipython",
    "version": 3
   },
   "file_extension": ".py",
   "mimetype": "text/x-python",
   "name": "python",
   "nbconvert_exporter": "python",
   "pygments_lexer": "ipython3",
   "version": "3.10.8"
  }
 },
 "nbformat": 4,
 "nbformat_minor": 5
}
